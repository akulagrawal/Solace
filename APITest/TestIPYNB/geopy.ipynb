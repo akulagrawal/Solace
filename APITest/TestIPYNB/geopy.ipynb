{
 "cells": [
  {
   "cell_type": "code",
   "execution_count": 4,
   "metadata": {},
   "outputs": [],
   "source": [
    "from geopy.geocoders import Nominatim"
   ]
  },
  {
   "cell_type": "code",
   "execution_count": 6,
   "metadata": {},
   "outputs": [
    {
     "name": "stdout",
     "output_type": "stream",
     "text": [
      "Indian Institute of Technology Guwahati - IIT Guwahati, NH27, Amingaon, Guwahati, Kamrup, Assam, 781015, भारत\n",
      "(26.19247875, 91.6946356873113)\n",
      "{'boundingbox': ['26.1823597', '26.2018409', '91.6860336', '91.7042369'], 'osm_id': '52435139', 'importance': 0.42100000000000004, 'lon': '91.6946356873113', 'icon': 'https://nominatim.openstreetmap.org/images/mapicons/education_university.p.20.png', 'licence': 'Data © OpenStreetMap contributors, ODbL 1.0. https://osm.org/copyright', 'lat': '26.19247875', 'display_name': 'Indian Institute of Technology Guwahati - IIT Guwahati, NH27, Amingaon, Guwahati, Kamrup, Assam, 781015, भारत', 'type': 'university', 'place_id': '89338252', 'osm_type': 'way', 'class': 'amenity'}\n"
     ]
    }
   ],
   "source": [
    "geolocator = Nominatim(user_agent=\"my\")\n",
    "location = geolocator.geocode(\"IIT Guwahati Assam IN\")\n",
    "print(location.address)\n",
    "print((location.latitude, location.longitude))\n",
    "print(location.raw)"
   ]
  },
  {
   "cell_type": "code",
   "execution_count": 7,
   "metadata": {},
   "outputs": [
    {
     "name": "stdout",
     "output_type": "stream",
     "text": [
      "Indian Institute of Technology Guwahati - IIT Guwahati, NH27, Amingaon, Guwahati, Kamrup, Assam, 781015, भारत\n",
      "(26.19247875, 91.6946356873113)\n",
      "{'licence': 'Data © OpenStreetMap contributors, ODbL 1.0. https://osm.org/copyright', 'boundingbox': ['26.1823597', '26.2018409', '91.6860336', '91.7042369'], 'lat': '26.19247875', 'display_name': 'Indian Institute of Technology Guwahati - IIT Guwahati, NH27, Amingaon, Guwahati, Kamrup, Assam, 781015, भारत', 'osm_id': '52435139', 'place_id': '89338252', 'address': {'suburb': 'Amingaon', 'postcode': '781015', 'university': 'Indian Institute of Technology Guwahati - IIT Guwahati', 'state_district': 'Kamrup', 'country': 'भारत', 'state': 'Assam', 'country_code': 'in', 'road': 'NH27', 'city': 'Guwahati'}, 'osm_type': 'way', 'lon': '91.6946356873113'}\n"
     ]
    }
   ],
   "source": [
    "location = geolocator.reverse(\"26.19247875, 91.6946356873113\")\n",
    "print(location.address)\n",
    "print((location.latitude, location.longitude))\n",
    "print(location.raw)"
   ]
  },
  {
   "cell_type": "code",
   "execution_count": null,
   "metadata": {},
   "outputs": [],
   "source": []
  }
 ],
 "metadata": {
  "kernelspec": {
   "display_name": "django",
   "language": "python",
   "name": "django"
  },
  "language_info": {
   "codemirror_mode": {
    "name": "ipython",
    "version": 3
   },
   "file_extension": ".py",
   "mimetype": "text/x-python",
   "name": "python",
   "nbconvert_exporter": "python",
   "pygments_lexer": "ipython3",
   "version": "3.5.2"
  }
 },
 "nbformat": 4,
 "nbformat_minor": 2
}
